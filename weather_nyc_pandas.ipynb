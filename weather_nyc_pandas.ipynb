{
 "cells": [
  {
   "cell_type": "markdown",
   "metadata": {},
   "source": [
    "# Statistical Analysis and Machine Learning on NYC Weather Data"
   ]
  },
  {
   "cell_type": "code",
   "execution_count": null,
   "metadata": {},
   "outputs": [],
   "source": [
    "import pandas as pd\n",
    "import numpy as np\n",
    "from matplotlib import pyplot as plt"
   ]
  },
  {
   "cell_type": "markdown",
   "metadata": {},
   "source": [
    "### Import the data as comma separated value (csv) format"
   ]
  },
  {
   "cell_type": "code",
   "execution_count": null,
   "metadata": {},
   "outputs": [],
   "source": [
    "nyc_weather = pd.read_csv('nyc_weather.csv')\n",
    "nycISI = pd.read_csv('nyc_weather.csv') # to be converted to ISI units\n",
    "nyc_weather.head() # preview "
   ]
  },
  {
   "cell_type": "code",
   "execution_count": null,
   "metadata": {},
   "outputs": [],
   "source": [
    "nycISI.columns"
   ]
  },
  {
   "cell_type": "markdown",
   "metadata": {},
   "source": [
    "### Conversion of the units to ISI units in the data frame nycISI"
   ]
  },
  {
   "cell_type": "code",
   "execution_count": null,
   "metadata": {},
   "outputs": [],
   "source": [
    "nycISI.rename(columns={'Max.TemperatureF' : 'Max.TemperatureC', 'Mean.TemperatureF' : 'Mean.TemperatureC', 'Min.TemperatureF' : 'Min.TemperatureC'}, inplace = True)\n",
    "nycISI[['Max.TemperatureC', 'Mean.TemperatureC', 'Min.TemperatureC']] = (nyc_weather[['Max.TemperatureF', 'Mean.TemperatureF', 'Min.TemperatureF']]-32) / 1.8\n",
    "nycISI.rename(columns={'Max.Dew.PointF' : 'Max.Dew.PointC', 'MeanDew.PointF' : 'Mean.Dew.PointC', 'Min.DewpointF' : 'Min.Dew.PointC'}, inplace = True)\n",
    "nycISI[['Max.Dew.PointC', 'Mean.Dew.PointC', 'Min.Dew.PointC']] = (nyc_weather[['Max.Dew.PointF', 'MeanDew.PointF', 'Min.DewpointF']]-32) / 1.8\n",
    "nycISI.rename(columns={'Max.VisibilityMiles':'Max.VisibilityKm', 'Mean.VisibilityMiles' : 'Mean.VisibilityKm', 'Min.VisibilityMiles' : 'Min.VisibilityKm'}, inplace = True)\n",
    "nycISI[['Max.VisibilityKm', 'Mean.VisibilityKm', 'Min.VisibilityKm']] = (nyc_weather[['Max.VisibilityMiles', 'Mean.VisibilityMiles', 'Min.VisibilityMiles']]) * 1.6\n",
    "nycISI.rename(columns = {'Max.Wind.SpeedMPH': 'Max.Wind.SpeedKPH', 'Mean.Wind.SpeedMPH': 'Mean.Wind.SpeedKPH'}, inplace = True)\n",
    "nycISI[['Max.Wind.SpeedKPH', 'Mean.Wind.SpeedKPH']] = nyc_weather[['Max.Wind.SpeedMPH', 'Mean.Wind.SpeedMPH']] * 1.6"
   ]
  },
  {
   "cell_type": "markdown",
   "metadata": {},
   "source": [
    "# Part 1. Simple Statistical Analysis"
   ]
  },
  {
   "cell_type": "markdown",
   "metadata": {},
   "source": [
    "## What is the distribution of temperature?"
   ]
  },
  {
   "cell_type": "code",
   "execution_count": null,
   "metadata": {},
   "outputs": [],
   "source": [
    "## are there any nan values in the mean temperature data?\n",
    "nycISI['Mean.TemperatureC'].isnull().sum()"
   ]
  },
  {
   "cell_type": "code",
   "execution_count": null,
   "metadata": {},
   "outputs": [],
   "source": [
    "nycISI['Mean.TemperatureC'].describe()"
   ]
  },
  {
   "cell_type": "code",
   "execution_count": null,
   "metadata": {},
   "outputs": [],
   "source": [
    "print('The average temperature in NYC from {} to {} is {} C.'.format(nycISI['Date'][0], nycISI['Date'][-1:].values[0], round(nycISI['Mean.TemperatureC'].mean(), 3)))"
   ]
  },
  {
   "cell_type": "code",
   "execution_count": null,
   "metadata": {},
   "outputs": [],
   "source": [
    "plt.hist(nycISI['Mean.TemperatureC'].fillna(nycISI['Mean.TemperatureC'].mean())) # fillna to replace the nan with the mean temperature to avoid errors\n",
    "plt.show()"
   ]
  },
  {
   "cell_type": "markdown",
   "metadata": {},
   "source": [
    "### Average daily temperature variation in NYC "
   ]
  },
  {
   "cell_type": "code",
   "execution_count": null,
   "metadata": {},
   "outputs": [],
   "source": [
    "plt.plot(nycISI['Mean.TemperatureC'])\n",
    "plt.show()"
   ]
  },
  {
   "cell_type": "markdown",
   "metadata": {},
   "source": [
    "## Average yearly temperature variation from 1949 to 2015"
   ]
  },
  {
   "cell_type": "code",
   "execution_count": null,
   "metadata": {},
   "outputs": [],
   "source": [
    "StartYear = int(nycISI['Date'].values[0][0:4]) + 1 # the +1 is to not include the first year (1948) whose data is only partially available\n",
    "EndYear = int(nycISI['Date'].values[-1][0:4]) \n",
    "nycTemp = pd.DataFrame({'year' : range(StartYear, EndYear + 1)})\n",
    "nycTemp = nycTemp[['year']]\n",
    "mean_temp = []                        \n",
    "for k in nycTemp['year']:\n",
    "    is_year_equal_to_k = []\n",
    "    for date in nycISI['Date']:\n",
    "        is_year_equal_to_k.append(date.startswith(str(k)))\n",
    "    mean_temp.append((nycISI['Mean.TemperatureC'][is_year_equal_to_k]).mean())\n",
    "    is_year_equal_to_k = []\n",
    "nycTemp['Mean Temp'] = mean_temp\n",
    "plt.plot(nycTemp['year'], nycTemp['Mean Temp'])\n",
    "plt.xlabel('Year')\n",
    "plt.ylabel('Yearly Temperature \\u00b0C')\n",
    "plt.title('Yearly Average Temperature vs. Year')\n",
    "plt.show()"
   ]
  },
  {
   "cell_type": "markdown",
   "metadata": {},
   "source": [
    "## Global warming? \n",
    "### Calculate the 5-year temperature average"
   ]
  },
  {
   "cell_type": "code",
   "execution_count": null,
   "metadata": {},
   "outputs": [],
   "source": [
    "w = 5\n",
    "mean_w_years_temp = []\n",
    "start_index = 0\n",
    "kRange = range(0, len(nycTemp['year']))\n",
    "print(kRange)\n",
    "for k in kRange:\n",
    "    if k >= w :\n",
    "        start_index = k - w\n",
    "        end_index = k\n",
    "    else:\n",
    "        start_index = 0\n",
    "        end_index = 4\n",
    "    mean_w_years_temp.append((nycTemp['Mean Temp'][start_index:end_index]).mean())\n",
    "nycTemp['5Years Mean Temperature'] = mean_w_years_temp\n",
    "plt.plot(nycTemp['year'], nycTemp['Mean Temp'], label = 'yearly mean')\n",
    "plt.plot(nycTemp['year'], nycTemp['5Years Mean Temperature'], label = '5 years mean')\n",
    "plt.xlabel('Year')\n",
    "plt.ylabel('Temperature \\u00b0C')\n",
    "plt.legend()\n",
    "plt.title('Average Temperature vs. Year')\n",
    "plt.show()"
   ]
  },
  {
   "cell_type": "code",
   "execution_count": null,
   "metadata": {},
   "outputs": [],
   "source": [
    "print('From {} to {} in NYC the 5-year average temperature has increased by {}\\u00b0c! Is this a sign of global warming?'.format(nycTemp['year'].values[0], nycTemp['year'][-1:].values[0], round(nycTemp['5Years Mean Temperature'][-1:].values[0] - nycTemp['5Years Mean Temperature'][0], 2)))"
   ]
  },
  {
   "cell_type": "code",
   "execution_count": null,
   "metadata": {},
   "outputs": [],
   "source": [
    "year_max = nycTemp['year'][nycTemp['5Years Mean Temperature'] == nycTemp['5Years Mean Temperature'].max()].values[0]\n",
    "print('The highest 5-year temperature average from {} to {} in NYC has occured in {}. Is this a sign of global warming?'.format(nycTemp['year'].values[0], nycTemp['year'][-1:].values[0], year_max))"
   ]
  },
  {
   "cell_type": "markdown",
   "metadata": {},
   "source": [
    "###  What are the maximums/minimums and when did they happen? \n",
    "### Max wind speed ever recorded"
   ]
  },
  {
   "cell_type": "code",
   "execution_count": null,
   "metadata": {
    "scrolled": true
   },
   "outputs": [],
   "source": [
    "max_windSpeed = nycISI['Max.Wind.SpeedKPH'].max()\n",
    "date_maxWindSpeed = nycISI['Date'][nycISI['Max.Wind.SpeedKPH'] == max_windSpeed].values[0]\n",
    "print('Maximum wind speed ever recorded in NYC since {} is {} KPH which occured on {}.'.format(nycISI['Date'].min(), round(max_windSpeed, 3), date_maxWindSpeed))"
   ]
  },
  {
   "cell_type": "markdown",
   "metadata": {},
   "source": [
    "### Max temperature ever recorded"
   ]
  },
  {
   "cell_type": "code",
   "execution_count": null,
   "metadata": {},
   "outputs": [],
   "source": [
    "max_temp = nycISI['Max.TemperatureC'].max()\n",
    "date_maxTemp = nycISI['Date'][nycISI['Max.TemperatureC'] == max_temp].values[0]\n",
    "print('Maximum temperature ever recorded in NYC since {} is {} C which occured on {}.'.format(nycISI['Date'][0], round(max_temp, 3), date_maxTemp  ))"
   ]
  },
  {
   "cell_type": "markdown",
   "metadata": {},
   "source": [
    "#### The maximum temperature ever recorded is very recent (> 2011). Is this a sign of climate change?"
   ]
  },
  {
   "cell_type": "markdown",
   "metadata": {},
   "source": [
    "### Min temperature ever recorded"
   ]
  },
  {
   "cell_type": "code",
   "execution_count": null,
   "metadata": {
    "scrolled": false
   },
   "outputs": [],
   "source": [
    "min_temp = nycISI['Min.TemperatureC'].min()\n",
    "date_minTemp = nycISI['Date'][nycISI['Min.TemperatureC'] == min_temp].values[0]\n",
    "print('Minimum temperature ever recorded in NYC since {} is {} C which occured on {}.'.format(nycISI['Date'][0], round(min_temp, 3), date_minTemp))"
   ]
  }
 ],
 "metadata": {
  "kernelspec": {
   "display_name": "Python 3",
   "language": "python",
   "name": "python3"
  },
  "language_info": {
   "codemirror_mode": {
    "name": "ipython",
    "version": 3
   },
   "file_extension": ".py",
   "mimetype": "text/x-python",
   "name": "python",
   "nbconvert_exporter": "python",
   "pygments_lexer": "ipython3",
   "version": "3.4.3"
  }
 },
 "nbformat": 4,
 "nbformat_minor": 2
}
