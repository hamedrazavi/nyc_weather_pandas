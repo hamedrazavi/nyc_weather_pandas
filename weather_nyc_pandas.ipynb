{
 "cells": [
  {
   "cell_type": "markdown",
   "metadata": {},
   "source": [
    "# Statistical Analysis on NYC Weather Data"
   ]
  },
  {
   "cell_type": "code",
   "execution_count": null,
   "metadata": {},
   "outputs": [],
   "source": [
    "import pandas as pd\n",
    "import numpy as np\n",
    "from matplotlib import pyplot as plt"
   ]
  },
  {
   "cell_type": "markdown",
   "metadata": {},
   "source": [
    "### Import the data as comma separated value (csv) format"
   ]
  },
  {
   "cell_type": "code",
   "execution_count": null,
   "metadata": {},
   "outputs": [],
   "source": [
    "nyc_weather = pd.read_csv('nyc_weather.csv')\n",
    "nycISI = pd.read_csv('nyc_weather.csv') # to be converted to ISI units\n",
    "nyc_weather.head() # preview "
   ]
  },
  {
   "cell_type": "code",
   "execution_count": null,
   "metadata": {},
   "outputs": [],
   "source": [
    "nycISI.columns"
   ]
  },
  {
   "cell_type": "markdown",
   "metadata": {},
   "source": [
    "### Conversion of the units to ISI units in the data frame nycISI"
   ]
  },
  {
   "cell_type": "code",
   "execution_count": null,
   "metadata": {},
   "outputs": [],
   "source": [
    "nycISI.rename(columns={'Max.TemperatureF' : 'Max.TemperatureC', 'Mean.TemperatureF' : 'Mean.TemperatureC', 'Min.TemperatureF' : 'Min.TemperatureC'}, inplace = True)\n",
    "nycISI[['Max.TemperatureC', 'Mean.TemperatureC', 'Min.TemperatureC']] = (nyc_weather[['Max.TemperatureF', 'Mean.TemperatureF', 'Min.TemperatureF']]-32) / 1.8\n",
    "nycISI.rename(columns={'Max.Dew.PointF' : 'Max.Dew.PointC', 'MeanDew.PointF' : 'Mean.Dew.PointC', 'Min.DewpointF' : 'Min.Dew.PointC'}, inplace = True)\n",
    "nycISI[['Max.Dew.PointC', 'Mean.Dew.PointC', 'Min.Dew.PointC']] = (nyc_weather[['Max.Dew.PointF', 'MeanDew.PointF', 'Min.DewpointF']]-32) / 1.8\n",
    "nycISI.rename(columns={'Max.VisibilityMiles':'Max.VisibilityKm', 'Mean.VisibilityMiles' : 'Mean.VisibilityKm', 'Min.VisibilityMiles' : 'Min.VisibilityKm'}, inplace = True)\n",
    "nycISI[['Max.VisibilityKm', 'Mean.VisibilityKm', 'Min.VisibilityKm']] = (nyc_weather[['Max.VisibilityMiles', 'Mean.VisibilityMiles', 'Min.VisibilityMiles']]) * 1.6\n",
    "nycISI.rename(columns = {'Max.Wind.SpeedMPH': 'Max.Wind.SpeedKPH', 'Mean.Wind.SpeedMPH': 'Mean.Wind.SpeedKPH'}, inplace = True)\n",
    "nycISI[['Max.Wind.SpeedKPH', 'Mean.Wind.SpeedKPH']] = nyc_weather[['Max.Wind.SpeedMPH', 'Mean.Wind.SpeedMPH']] * 1.6"
   ]
  },
  {
   "cell_type": "markdown",
   "metadata": {},
   "source": [
    "# Part 1. Simple Statistical Analysis"
   ]
  },
  {
   "cell_type": "markdown",
   "metadata": {},
   "source": [
    "## What is the distribution of temperature?"
   ]
  },
  {
   "cell_type": "code",
   "execution_count": null,
   "metadata": {},
   "outputs": [],
   "source": [
    "## are there any nan values in the mean temperature data?\n",
    "nycISI['Mean.TemperatureC'].isnull().sum()"
   ]
  },
  {
   "cell_type": "code",
   "execution_count": null,
   "metadata": {},
   "outputs": [],
   "source": [
    "## Describe the mean temperature distribution \n",
    "nycISI['Mean.TemperatureC'].describe()"
   ]
  },
  {
   "cell_type": "code",
   "execution_count": null,
   "metadata": {},
   "outputs": [],
   "source": [
    "print('The average temperature in NYC from {} to {} is {} C.'.format(nycISI['Date'][0], nycISI['Date'][-1:].values[0], round(nycISI['Mean.TemperatureC'].mean(), 3)))"
   ]
  },
  {
   "cell_type": "code",
   "execution_count": null,
   "metadata": {},
   "outputs": [],
   "source": [
    "plt.hist(nycISI['Mean.TemperatureC'].fillna(nycISI['Mean.TemperatureC'].mean())) # fillna to replace the nan with the mean temperature to avoid errors\n",
    "plt.show()"
   ]
  },
  {
   "cell_type": "markdown",
   "metadata": {},
   "source": [
    "###  What are the maximums/minimums and when did they happen? \n",
    "### Max wind speed ever recorded"
   ]
  },
  {
   "cell_type": "code",
   "execution_count": null,
   "metadata": {
    "scrolled": true
   },
   "outputs": [],
   "source": [
    "max_windSpeed = nycISI['Max.Wind.SpeedKPH'].max()\n",
    "date_maxWindSpeed = nycISI['Date'][nycISI['Max.Wind.SpeedKPH'] == max_windSpeed].values[0]\n",
    "print('Maximum wind speed ever recorded in NYC since {} is {} KPH which occured on {}.'.format(nycISI['Date'].min(), round(max_windSpeed, 3), date_maxWindSpeed))"
   ]
  },
  {
   "cell_type": "markdown",
   "metadata": {},
   "source": [
    "### Max temperature ever recorded"
   ]
  },
  {
   "cell_type": "code",
   "execution_count": null,
   "metadata": {},
   "outputs": [],
   "source": [
    "max_temp = nycISI['Max.TemperatureC'].max()\n",
    "date_maxTemp = nycISI['Date'][nycISI['Max.TemperatureC'] == max_temp].values[0]\n",
    "print('Maximum temperature ever recorded in NYC since {} is {} C which occured on {}.'.format(nycISI['Date'][0], round(max_temp, 3), date_maxTemp  ))"
   ]
  },
  {
   "cell_type": "markdown",
   "metadata": {},
   "source": [
    "#### The maximum temperature ever recorded is very recent (> 2011). Is this a sign of climate change?"
   ]
  },
  {
   "cell_type": "markdown",
   "metadata": {},
   "source": [
    "### Min temperature ever recorded"
   ]
  },
  {
   "cell_type": "code",
   "execution_count": null,
   "metadata": {
    "scrolled": false
   },
   "outputs": [],
   "source": [
    "min_temp = nycISI['Min.TemperatureC'].min()\n",
    "date_minTemp = nycISI['Date'][nycISI['Min.TemperatureC'] == min_temp].values[0]\n",
    "print('Minimum temperature ever recorded in NYC since {} is {} C which occured on {}.'.format(nycISI['Date'][0], round(min_temp, 3), date_minTemp))"
   ]
  },
  {
   "cell_type": "code",
   "execution_count": null,
   "metadata": {},
   "outputs": [],
   "source": [
    "nycISI.head()"
   ]
  },
  {
   "cell_type": "markdown",
   "metadata": {},
   "source": [
    "# Part 2. Prediction of Temperature and global warming\n",
    "### So far we have done statistical analysis on the NYC weather data, but in this section we try to do predictions for which we will be using machine learning tools. In particular, we try to predict the temperature in 10 years, and 100 years given the historical pattern of temperature in NYC. "
   ]
  },
  {
   "cell_type": "markdown",
   "metadata": {},
   "source": [
    "### Average daily temperature variation in NYC "
   ]
  },
  {
   "cell_type": "code",
   "execution_count": null,
   "metadata": {
    "scrolled": false
   },
   "outputs": [],
   "source": [
    "plt.plot(nycISI['Mean.TemperatureC'])\n",
    "plt.show()"
   ]
  },
  {
   "cell_type": "markdown",
   "metadata": {},
   "source": [
    "### Average yearly temperature variation from 1949 to 2015"
   ]
  },
  {
   "cell_type": "code",
   "execution_count": null,
   "metadata": {},
   "outputs": [],
   "source": [
    "StartYear = int(nycISI['Date'].values[0][0:4]) + 1 # the +1 is to not include the first year (1948) whose data is only partially available\n",
    "EndYear = int(nycISI['Date'].values[-1][0:4]) \n",
    "nycTemp = pd.DataFrame({'year' : range(StartYear, EndYear + 1)})\n",
    "nycTemp = nycTemp[['year']]\n",
    "mean_temp = []                        \n",
    "for k in nycTemp['year']:\n",
    "    is_year_equal_to_k = []\n",
    "    for date in nycISI['Date']:\n",
    "        is_year_equal_to_k.append(date.startswith(str(k)))\n",
    "    mean_temp.append((nycISI['Mean.TemperatureC'][is_year_equal_to_k]).mean())\n",
    "    is_year_equal_to_k = []\n",
    "nycTemp['Mean Temp'] = mean_temp\n",
    "plt.plot(nycTemp['year'], nycTemp['Mean Temp'], '.-')\n",
    "plt.xlabel('Year')\n",
    "plt.ylabel('Yearly Temperature \\u00b0C')\n",
    "plt.title('Yearly Average Temperature vs. Year')\n",
    "plt.show()"
   ]
  },
  {
   "cell_type": "markdown",
   "metadata": {},
   "source": [
    "### Five-year-average temperature average"
   ]
  },
  {
   "cell_type": "code",
   "execution_count": null,
   "metadata": {
    "scrolled": true
   },
   "outputs": [],
   "source": [
    "w = 5\n",
    "mean_w_years_temp = []\n",
    "start_index = 0\n",
    "kRange = range(0, len(nycTemp['year']))\n",
    "print(kRange)\n",
    "for k in kRange:\n",
    "    if k >= w :\n",
    "        start_index = k - w\n",
    "        end_index = k\n",
    "    else:\n",
    "        start_index = 0\n",
    "        end_index = 4\n",
    "    mean_w_years_temp.append((nycTemp['Mean Temp'][start_index:end_index]).mean())\n",
    "nycTemp['5Years Mean Temperature'] = mean_w_years_temp\n",
    "plt.plot(nycTemp['year'], nycTemp['Mean Temp'], label = 'yearly mean')\n",
    "plt.plot(nycTemp['year'], nycTemp['5Years Mean Temperature'], label = '5 years mean')\n",
    "plt.xlabel('Year')\n",
    "plt.ylabel('Temperature \\u00b0C')\n",
    "plt.legend()\n",
    "plt.title('Average Temperature vs. Year')\n",
    "plt.show()"
   ]
  },
  {
   "cell_type": "code",
   "execution_count": null,
   "metadata": {},
   "outputs": [],
   "source": [
    "print('From {} to {} in NYC the 5-year average temperature has increased by {}\\u00b0c! Is this a sign of global warming?'.format(nycTemp['year'].values[0], nycTemp['year'][-1:].values[0], round(nycTemp['5Years Mean Temperature'][-1:].values[0] - nycTemp['5Years Mean Temperature'][0], 2)))\n",
    "year_max = nycTemp['year'][nycTemp['5Years Mean Temperature'] == nycTemp['5Years Mean Temperature'].max()].values[0]\n",
    "print('\\nThe highest 5-year temperature average from {} to {} in NYC has occured in {}. Is this a sign of global warming?'.format(nycTemp['year'].values[0], nycTemp['year'][-1:].values[0], year_max))"
   ]
  },
  {
   "cell_type": "markdown",
   "metadata": {},
   "source": [
    "### Given the chaotic nature of the yearly-average temperature graph, it is does not seem possible to be able to do a regression with time (= year) as the feature. So, we look at the 5 year average which should be less chaotic:"
   ]
  },
  {
   "cell_type": "code",
   "execution_count": null,
   "metadata": {},
   "outputs": [],
   "source": [
    "plt.plot(nycTemp['year'], nycTemp['5Years Mean Temperature'],  '.-')\n",
    "plt.xlabel('Year')\n",
    "plt.ylabel('Temperature \\u00b0C')\n",
    "plt.title('5-Year Average Temperature')\n",
    "plt.show()"
   ]
  },
  {
   "cell_type": "markdown",
   "metadata": {},
   "source": [
    "### Still the 5 years average is chaotic, below we look at the 40 years average. "
   ]
  },
  {
   "cell_type": "code",
   "execution_count": null,
   "metadata": {},
   "outputs": [],
   "source": [
    "w = 40\n",
    "mean_w_years_temp = []\n",
    "start_index = 0\n",
    "kRange = range(0, len(nycTemp['year']))\n",
    "print(kRange)\n",
    "for k in kRange:\n",
    "    if k >= w :\n",
    "        start_index = k - w\n",
    "        end_index = k\n",
    "    else:\n",
    "        start_index = 0\n",
    "        end_index = 4\n",
    "    mean_w_years_temp.append((nycTemp['Mean Temp'][start_index:end_index]).mean())\n",
    "nycTemp['40Years Mean Temperature'] = mean_w_years_temp"
   ]
  },
  {
   "cell_type": "markdown",
   "metadata": {},
   "source": [
    "## Global warming? \n",
    "### As seen in the graph below, the temperature increase on a 40-years average temperature graph is quite clear."
   ]
  },
  {
   "cell_type": "code",
   "execution_count": null,
   "metadata": {},
   "outputs": [],
   "source": [
    "plt.plot(nycTemp['year'][w:], nycTemp['40Years Mean Temperature'][w:],  '.-')\n",
    "plt.xlabel('Year')\n",
    "plt.ylabel('Temperature \\u00b0C')\n",
    "plt.title('40-Year Average Temperature')\n",
    "plt.show()"
   ]
  },
  {
   "cell_type": "markdown",
   "metadata": {},
   "source": [
    "## Prediction of ther 40-year-average temperature in 10 years"
   ]
  },
  {
   "cell_type": "code",
   "execution_count": null,
   "metadata": {},
   "outputs": [],
   "source": [
    "from sklearn.linear_model import LinearRegression\n",
    "from sklearn.model_selection import TimeSeriesSplit\n",
    "from sklearn import metrics"
   ]
  },
  {
   "cell_type": "code",
   "execution_count": null,
   "metadata": {},
   "outputs": [],
   "source": [
    "linreg = LinearRegression()"
   ]
  },
  {
   "cell_type": "code",
   "execution_count": null,
   "metadata": {},
   "outputs": [],
   "source": [
    "X = nycTemp['year'].values[w:] - nycTemp['year'][w] # number of years from 1989\n",
    "X = X.reshape(-1, 1)\n",
    "y = nycTemp['40Years Mean Temperature'].values[w:]"
   ]
  },
  {
   "cell_type": "code",
   "execution_count": null,
   "metadata": {},
   "outputs": [],
   "source": [
    "ts_cv = TimeSeriesSplit(n_splits=2)"
   ]
  },
  {
   "cell_type": "code",
   "execution_count": null,
   "metadata": {},
   "outputs": [],
   "source": [
    "for train_index, test_index in ts_cv.split(X):\n",
    "    print('Train:', train_index, 'Test:', test_index)\n",
    "    X_train, X_test = X[train_index], X[test_index]\n",
    "    y_train, y_test = y[train_index], y[test_index]"
   ]
  },
  {
   "cell_type": "code",
   "execution_count": null,
   "metadata": {
    "scrolled": true
   },
   "outputs": [],
   "source": [
    "linreg.fit(X_train, y_train)"
   ]
  },
  {
   "cell_type": "code",
   "execution_count": null,
   "metadata": {},
   "outputs": [],
   "source": [
    "y_pred = linreg.predict(X)"
   ]
  },
  {
   "cell_type": "code",
   "execution_count": null,
   "metadata": {},
   "outputs": [],
   "source": [
    "plt.plot(nycTemp['year'].values[w:], y_pred)\n",
    "plt.plot(nycTemp['year'].values[w:], y)\n",
    "plt.show()"
   ]
  },
  {
   "cell_type": "code",
   "execution_count": null,
   "metadata": {},
   "outputs": [],
   "source": [
    "metrics.mean_squared_error(y, y_pred)"
   ]
  },
  {
   "cell_type": "code",
   "execution_count": null,
   "metadata": {
    "scrolled": true
   },
   "outputs": [],
   "source": [
    "linreg.coef_"
   ]
  },
  {
   "cell_type": "code",
   "execution_count": null,
   "metadata": {},
   "outputs": [],
   "source": [
    "print('A line fit predicts that the 40-year-average temperature increases by around {0:.2f}\\u00b0 every year!'.format(linreg.coef_[0]))"
   ]
  },
  {
   "cell_type": "markdown",
   "metadata": {},
   "source": [
    "### The linear regression does not give us a good fit, however, the positive slope of the line suggests that the 40-year average temperature increases by around 0.01 degrees every year. "
   ]
  },
  {
   "cell_type": "markdown",
   "metadata": {},
   "source": [
    "## Degree 2 polynomial regression"
   ]
  },
  {
   "cell_type": "code",
   "execution_count": null,
   "metadata": {},
   "outputs": [],
   "source": [
    "t = nycTemp['year'].values[w:] - nycTemp['year'][w] # number of years from 1989\n",
    "X = np.zeros(shape = (len(t), 2))\n",
    "for k in range(0, len(t)):\n",
    "    X[k] = [t[k], t[k]**2]"
   ]
  },
  {
   "cell_type": "code",
   "execution_count": null,
   "metadata": {},
   "outputs": [],
   "source": [
    "X[0:5]"
   ]
  },
  {
   "cell_type": "code",
   "execution_count": null,
   "metadata": {},
   "outputs": [],
   "source": [
    "for train_index, test_index in ts_cv.split(X):\n",
    "    print('Train:', train_index, 'Test:', test_index)\n",
    "    X_train, X_test = X[train_index], X[test_index]\n",
    "    y_train, y_test = y[train_index], y[test_index]"
   ]
  },
  {
   "cell_type": "code",
   "execution_count": null,
   "metadata": {},
   "outputs": [],
   "source": [
    "linreg2 = LinearRegression()\n",
    "linreg2.fit(X_train, y_train)"
   ]
  },
  {
   "cell_type": "code",
   "execution_count": null,
   "metadata": {
    "scrolled": true
   },
   "outputs": [],
   "source": [
    "y_pred = linreg2.predict(X)\n",
    "plt = plt\n",
    "plt.plot(nycTemp['year'].values[w:], y_pred)\n",
    "plt.plot(nycTemp['year'].values[w:], y)\n",
    "plt.show()"
   ]
  },
  {
   "cell_type": "code",
   "execution_count": null,
   "metadata": {},
   "outputs": [],
   "source": [
    "metrics.mean_squared_error(y, y_pred)"
   ]
  },
  {
   "cell_type": "code",
   "execution_count": null,
   "metadata": {},
   "outputs": [],
   "source": [
    "# in 20 years\n",
    "pred_year = 2035\n",
    "t = pred_year - nycTemp['year'][w] # number of years from 1989\n",
    "temp_pred = linreg2.predict([[t, t**2]])[0]\n",
    "print('With a degree 2 polynomial fit the 40-year average temperature in NYC in {} is predicted to increase by {}\\u00b0!'.format(pred_year, round(temp_pred - nycTemp['40Years Mean Temperature'].values[-1], 2)))"
   ]
  }
 ],
 "metadata": {
  "kernelspec": {
   "display_name": "Python 3",
   "language": "python",
   "name": "python3"
  },
  "language_info": {
   "codemirror_mode": {
    "name": "ipython",
    "version": 3
   },
   "file_extension": ".py",
   "mimetype": "text/x-python",
   "name": "python",
   "nbconvert_exporter": "python",
   "pygments_lexer": "ipython3",
   "version": "3.4.3"
  }
 },
 "nbformat": 4,
 "nbformat_minor": 2
}
